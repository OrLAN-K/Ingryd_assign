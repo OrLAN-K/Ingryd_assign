{
 "cells": [
  {
   "cell_type": "code",
   "execution_count": 10,
   "id": "8d6925f6",
   "metadata": {},
   "outputs": [
    {
     "name": "stdout",
     "output_type": "stream",
     "text": [
      "[10, 11, 12, 12, 13, 14, 15, 19, 22, 23, 23, 24, 25, 27, 30, 33, 34, 34, 34, 35]\n",
      "answer for mean 22.5\n",
      "answer for median 33.5\n",
      "mode: 34\n",
      "range: 25\n",
      "variance, 78.37\n",
      "standard varaince, 8.85\n",
      "mean_dev 7.45\n"
     ]
    }
   ],
   "source": [
    "# import from library\n",
    "import statistics\n",
    "\n",
    "#temperature of certain people\n",
    "temp_of_people = [11, 23, 14, 35, 12, 22, 25, 12, 34, 10, 33, 13, 34, 19, 15, 24, 27, 30, 23, 34]\n",
    "\n",
    "# sorted temperature\n",
    "sor_temp = sorted(temp_of_people)\n",
    "print(sor_temp)\n",
    "\n",
    "# calculate the mean \n",
    "\n",
    "mean_value = sum(sor_temp)/len(sor_temp)\n",
    "print('answer for mean:', mean_value)\n",
    "\n",
    "# calculate the median \n",
    "meadian = 22 + 23 / 2\n",
    "print('answer for median:', meadian)\n",
    "\n",
    "#calculate the mode\n",
    "mode = statistics.mode(sor_temp)\n",
    "print('mode:', mode)\n",
    "\n",
    "# calculate the range\n",
    "d_range = max(sor_temp) - min(sor_temp)\n",
    "print('range:', d_range)\n",
    "\n",
    "#calculate variance\n",
    "variance = statistics.variance(sor_temp)\n",
    "print(f'variance, {variance:.2f}')\n",
    "\n",
    "#calculate standard deviation\n",
    "s_d = variance ** 0.5\n",
    "print(f'standard deviation, {s_d:.2f}')\n",
    "\n",
    "#calculate mean deviation\n",
    "mean_dev = statistics.mean([abs(x - mean_value) for x in sor_temp])\n",
    "print('mean_dev', mean_dev)"
   ]
  },
  {
   "cell_type": "code",
   "execution_count": null,
   "id": "b55a8dfc",
   "metadata": {},
   "outputs": [],
   "source": []
  }
 ],
 "metadata": {
  "kernelspec": {
   "display_name": "Python 3 (ipykernel)",
   "language": "python",
   "name": "python3"
  },
  "language_info": {
   "codemirror_mode": {
    "name": "ipython",
    "version": 3
   },
   "file_extension": ".py",
   "mimetype": "text/x-python",
   "name": "python",
   "nbconvert_exporter": "python",
   "pygments_lexer": "ipython3",
   "version": "3.11.3"
  }
 },
 "nbformat": 4,
 "nbformat_minor": 5
}
